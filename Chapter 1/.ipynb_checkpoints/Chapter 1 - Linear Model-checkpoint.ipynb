{
 "cells": [
  {
   "cell_type": "code",
   "execution_count": null,
   "id": "c25549af",
   "metadata": {},
   "outputs": [],
   "source": [
    "# Example of the process of loading a dataset and executing a Linear Regression into it\n",
    "# prepare-country_stats is not defined!\n",
    "import matplotlib.pyplot as plt\n",
    "import numpy as np\n",
    "import pandas as pd\n",
    "import sklearn.linear_model\n",
    "\n",
    "oecd_bli = pd.read_csv('data/oecd_bli_2015.csv', thousands=',')\n",
    "gdp_per_capita = pd.read_csv('data/gdp_per_capita.csv', thousands=',', delimiter='\\t',\n",
    "                            encoding='latin1', na_values='n/a')\n",
    "\n",
    "country_stats = prepare_country_stats(oecd_bli, gdp_per_capita)\n",
    "X = np.c_[country_stats[\"GDP per Capita\"]]\n",
    "y = np.c_[country_stats[\"Life satisfaction\"]]\n",
    "\n",
    "country_stats.plot(kind='scatter', x=\"GDP per Capita\", y=\"Life satisfaction\")\n",
    "plt.show()\n",
    "\n",
    "model = sklearn.linear_model.LinearRegression()\n",
    "model.fit(X, y)\n",
    "\n",
    "# Make a prediction for Cyprus\n",
    "X_new = [[22587]]"
   ]
  },
  {
   "cell_type": "code",
   "execution_count": null,
   "id": "95f0a34d",
   "metadata": {},
   "outputs": [],
   "source": []
  }
 ],
 "metadata": {
  "kernelspec": {
   "display_name": "Python 3",
   "language": "python",
   "name": "python3"
  },
  "language_info": {
   "codemirror_mode": {
    "name": "ipython",
    "version": 3
   },
   "file_extension": ".py",
   "mimetype": "text/x-python",
   "name": "python",
   "nbconvert_exporter": "python",
   "pygments_lexer": "ipython3",
   "version": "3.9.4"
  }
 },
 "nbformat": 4,
 "nbformat_minor": 5
}
